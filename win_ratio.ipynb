{
 "cells": [
  {
   "cell_type": "code",
   "execution_count": 1,
   "metadata": {},
   "outputs": [],
   "source": [
    "import pandas as pd"
   ]
  },
  {
   "cell_type": "code",
   "execution_count": 2,
   "metadata": {},
   "outputs": [],
   "source": [
    "accounts = pd.read_csv(\"data/accounts.csv\")"
   ]
  },
  {
   "cell_type": "code",
   "execution_count": 7,
   "metadata": {},
   "outputs": [
    {
     "data": {
      "text/plain": [
       "array(['e10cd6ddf379b98c52e59529026359ad80e53ebecd38cd69773a26a2a0d2e3e6',\n",
       "       '592103594bc6e660e1d0caa9e046d7b7f6da3eede4e893d88080875d1d40ab3b',\n",
       "       '7be671feb8066897a6292e03e520aa4ffbc9cae00ffe995a52b41a7e6b922613',\n",
       "       ...,\n",
       "       '52837ef4e11812234cf93ead2d84eef2ce7cd881e915a4b40ed9a4e7a37a3d56',\n",
       "       'da1afdf5015045c8875c33d7cef8c8be8603c0ea024af7b0332ffd43d1cef44a',\n",
       "       '2ba37cb797be1ca95f8e4060ded84ae1ed3de55c57844979065245b1138707a8'],\n",
       "      dtype=object)"
      ]
     },
     "execution_count": 7,
     "metadata": {},
     "output_type": "execute_result"
    }
   ],
   "source": [
    "accounts.account_id.unique()"
   ]
  },
  {
   "cell_type": "code",
   "execution_count": 9,
   "metadata": {},
   "outputs": [],
   "source": [
    "import random\n",
    "accounts[\"win_ratio\"] = accounts.apply(lambda row: random.uniform(0, 1), axis=1)"
   ]
  },
  {
   "cell_type": "code",
   "execution_count": 12,
   "metadata": {},
   "outputs": [
    {
     "data": {
      "text/plain": [
       "<AxesSubplot:xlabel='level'>"
      ]
     },
     "execution_count": 12,
     "metadata": {},
     "output_type": "execute_result"
    },
    {
     "data": {
      "image/png": "[encoded data removed]",
      "text/plain": [
       "<Figure size 432x288 with 1 Axes>"
      ]
     },
     "metadata": {
      "needs_background": "light"
     },
     "output_type": "display_data"
    }
   ],
   "source": [
    "#mean of win_Ratio grouped by level\n",
    "accounts.groupby(\"level\")[\"win_ratio\"].mean()\n",
    "#plot it\n",
    "accounts.groupby(\"level\")[\"win_ratio\"].mean().plot()"
   ]
  },
  {
   "cell_type": "code",
   "execution_count": 8,
   "metadata": {},
   "outputs": [
    {
     "data": {
      "text/html": [
       "<div>\n",
       "<style scoped>\n",
       "    .dataframe tbody tr th:only-of-type {\n",
       "        vertical-align: middle;\n",
       "    }\n",
       "\n",
       "    .dataframe tbody tr th {\n",
       "        vertical-align: top;\n",
       "    }\n",
       "\n",
       "    .dataframe thead th {\n",
       "        text-align: right;\n",
       "    }\n",
       "</style>\n",
       "<table border=\"1\" class=\"dataframe\">\n",
       "  <thead>\n",
       "    <tr style=\"text-align: right;\">\n",
       "      <th></th>\n",
       "      <th>account_id</th>\n",
       "      <th>alliance_id</th>\n",
       "      <th>session_count</th>\n",
       "      <th>session_duration</th>\n",
       "      <th>transaction_count</th>\n",
       "      <th>revenue</th>\n",
       "      <th>date</th>\n",
       "      <th>active</th>\n",
       "      <th>account_state</th>\n",
       "      <th>last_active_date</th>\n",
       "      <th>level</th>\n",
       "      <th>created_language</th>\n",
       "      <th>created_country_code</th>\n",
       "      <th>created_time</th>\n",
       "      <th>session_count_today</th>\n",
       "      <th>session_duration_today</th>\n",
       "      <th>transaction_count_today</th>\n",
       "      <th>revenue_today</th>\n",
       "      <th>last_login_game_client_language</th>\n",
       "      <th>last_login_country_code</th>\n",
       "    </tr>\n",
       "  </thead>\n",
       "  <tbody>\n",
       "    <tr>\n",
       "      <th>0</th>\n",
       "      <td>e10cd6ddf379b98c52e59529026359ad80e53ebecd38cd...</td>\n",
       "      <td>7f87a7d72c4038b8845735c772a0407cb58d4a443508d1...</td>\n",
       "      <td>492</td>\n",
       "      <td>1.197445e+06</td>\n",
       "      <td>0</td>\n",
       "      <td>0.0</td>\n",
       "      <td>2023-03-01</td>\n",
       "      <td>True</td>\n",
       "      <td>3</td>\n",
       "      <td>2023-03-01</td>\n",
       "      <td>33.0</td>\n",
       "      <td>en-GB</td>\n",
       "      <td>IN</td>\n",
       "      <td>2022-06-30 09:57:13.976</td>\n",
       "      <td>2</td>\n",
       "      <td>5275.434000</td>\n",
       "      <td>0</td>\n",
       "      <td>0.0</td>\n",
       "      <td>en-IN</td>\n",
       "      <td>IN</td>\n",
       "    </tr>\n",
       "    <tr>\n",
       "      <th>1</th>\n",
       "      <td>592103594bc6e660e1d0caa9e046d7b7f6da3eede4e893...</td>\n",
       "      <td>beb86b8e68696fb10c3b3c55898a495568579cc17e2eb4...</td>\n",
       "      <td>536</td>\n",
       "      <td>4.138838e+05</td>\n",
       "      <td>0</td>\n",
       "      <td>0.0</td>\n",
       "      <td>2023-03-01</td>\n",
       "      <td>True</td>\n",
       "      <td>3</td>\n",
       "      <td>2023-03-01</td>\n",
       "      <td>31.0</td>\n",
       "      <td>en-GB</td>\n",
       "      <td>IN</td>\n",
       "      <td>2021-11-26 14:20:32.716</td>\n",
       "      <td>3</td>\n",
       "      <td>1691.798000</td>\n",
       "      <td>0</td>\n",
       "      <td>0.0</td>\n",
       "      <td>en-IN</td>\n",
       "      <td>IN</td>\n",
       "    </tr>\n",
       "    <tr>\n",
       "      <th>2</th>\n",
       "      <td>7be671feb8066897a6292e03e520aa4ffbc9cae00ffe99...</td>\n",
       "      <td>61b3a23ded0bdd6d3df3d0d7f741af2eb48e6f9bc662dc...</td>\n",
       "      <td>1115</td>\n",
       "      <td>5.606682e+05</td>\n",
       "      <td>0</td>\n",
       "      <td>0.0</td>\n",
       "      <td>2023-03-01</td>\n",
       "      <td>True</td>\n",
       "      <td>3</td>\n",
       "      <td>2023-03-01</td>\n",
       "      <td>32.0</td>\n",
       "      <td>en-GB</td>\n",
       "      <td>IN</td>\n",
       "      <td>2021-06-30 09:22:12.642</td>\n",
       "      <td>14</td>\n",
       "      <td>4192.960001</td>\n",
       "      <td>0</td>\n",
       "      <td>0.0</td>\n",
       "      <td>en-IN</td>\n",
       "      <td>IN</td>\n",
       "    </tr>\n",
       "    <tr>\n",
       "      <th>3</th>\n",
       "      <td>0cea88f4366301f6c58f45d131180aeb6108df7820f3cc...</td>\n",
       "      <td>a4979799f92bcec14255788a66d24be68de82c8afa1252...</td>\n",
       "      <td>2076</td>\n",
       "      <td>1.303385e+06</td>\n",
       "      <td>0</td>\n",
       "      <td>0.0</td>\n",
       "      <td>2023-03-01</td>\n",
       "      <td>True</td>\n",
       "      <td>3</td>\n",
       "      <td>2023-03-01</td>\n",
       "      <td>38.0</td>\n",
       "      <td>en-GB</td>\n",
       "      <td>IN</td>\n",
       "      <td>2021-08-20 06:40:01.696</td>\n",
       "      <td>3</td>\n",
       "      <td>5331.243000</td>\n",
       "      <td>0</td>\n",
       "      <td>0.0</td>\n",
       "      <td>en-GB</td>\n",
       "      <td>IN</td>\n",
       "    </tr>\n",
       "    <tr>\n",
       "      <th>4</th>\n",
       "      <td>57eb9194ccc208704bf991dd56a5cb3fff63c9b0ce61f6...</td>\n",
       "      <td>546c74e081f1d793ad223ac6ac4cedf226b0a4d285fae2...</td>\n",
       "      <td>1908</td>\n",
       "      <td>1.461803e+06</td>\n",
       "      <td>0</td>\n",
       "      <td>0.0</td>\n",
       "      <td>2023-03-01</td>\n",
       "      <td>True</td>\n",
       "      <td>3</td>\n",
       "      <td>2023-03-01</td>\n",
       "      <td>35.0</td>\n",
       "      <td>en-GB</td>\n",
       "      <td>IN</td>\n",
       "      <td>2022-05-26 13:10:14.224</td>\n",
       "      <td>10</td>\n",
       "      <td>3949.426000</td>\n",
       "      <td>0</td>\n",
       "      <td>0.0</td>\n",
       "      <td>en-GB</td>\n",
       "      <td>IN</td>\n",
       "    </tr>\n",
       "  </tbody>\n",
       "</table>\n",
       "</div>"
      ],
      "text/plain": [
       "                                          account_id  \\\n",
       "0  e10cd6ddf379b98c52e59529026359ad80e53ebecd38cd...   \n",
       "1  592103594bc6e660e1d0caa9e046d7b7f6da3eede4e893...   \n",
       "2  7be671feb8066897a6292e03e520aa4ffbc9cae00ffe99...   \n",
       "3  0cea88f4366301f6c58f45d131180aeb6108df7820f3cc...   \n",
       "4  57eb9194ccc208704bf991dd56a5cb3fff63c9b0ce61f6...   \n",
       "\n",
       "                                         alliance_id  session_count  \\\n",
       "0  7f87a7d72c4038b8845735c772a0407cb58d4a443508d1...            492   \n",
       "1  beb86b8e68696fb10c3b3c55898a495568579cc17e2eb4...            536   \n",
       "2  61b3a23ded0bdd6d3df3d0d7f741af2eb48e6f9bc662dc...           1115   \n",
       "3  a4979799f92bcec14255788a66d24be68de82c8afa1252...           2076   \n",
       "4  546c74e081f1d793ad223ac6ac4cedf226b0a4d285fae2...           1908   \n",
       "\n",
       "   session_duration  transaction_count  revenue        date  active  \\\n",
       "0      1.197445e+06                  0      0.0  2023-03-01    True   \n",
       "1      4.138838e+05                  0      0.0  2023-03-01    True   \n",
       "2      5.606682e+05                  0      0.0  2023-03-01    True   \n",
       "3      1.303385e+06                  0      0.0  2023-03-01    True   \n",
       "4      1.461803e+06                  0      0.0  2023-03-01    True   \n",
       "\n",
       "   account_state last_active_date  level created_language  \\\n",
       "0              3       2023-03-01   33.0            en-GB   \n",
       "1              3       2023-03-01   31.0            en-GB   \n",
       "2              3       2023-03-01   32.0            en-GB   \n",
       "3              3       2023-03-01   38.0            en-GB   \n",
       "4              3       2023-03-01   35.0            en-GB   \n",
       "\n",
       "  created_country_code             created_time  session_count_today  \\\n",
       "0                   IN  2022-06-30 09:57:13.976                    2   \n",
       "1                   IN  2021-11-26 14:20:32.716                    3   \n",
       "2                   IN  2021-06-30 09:22:12.642                   14   \n",
       "3                   IN  2021-08-20 06:40:01.696                    3   \n",
       "4                   IN  2022-05-26 13:10:14.224                   10   \n",
       "\n",
       "   session_duration_today  transaction_count_today  revenue_today  \\\n",
       "0             5275.434000                        0            0.0   \n",
       "1             1691.798000                        0            0.0   \n",
       "2             4192.960001                        0            0.0   \n",
       "3             5331.243000                        0            0.0   \n",
       "4             3949.426000                        0            0.0   \n",
       "\n",
       "  last_login_game_client_language last_login_country_code  \n",
       "0                           en-IN                      IN  \n",
       "1                           en-IN                      IN  \n",
       "2                           en-IN                      IN  \n",
       "3                           en-GB                      IN  \n",
       "4                           en-GB                      IN  "
      ]
     },
     "execution_count": 8,
     "metadata": {},
     "output_type": "execute_result"
    }
   ],
   "source": [
    "accounts.head()"
   ]
  },
  {
   "cell_type": "code",
   "execution_count": 1,
   "metadata": {},
   "outputs": [
    {
     "ename": "NameError",
     "evalue": "name 'messages_2' is not defined",
     "output_type": "error",
     "traceback": [
      "\u001b[0;31m---------------------------------------------------------------------------\u001b[0m",
      "\u001b[0;31mNameError\u001b[0m                                 Traceback (most recent call last)",
      "\u001b[0;32m/var/folders/7g/2ds3y3yd6319x1125r61pg1c0000gn/T/ipykernel_80417/2861869997.py\u001b[0m in \u001b[0;36m<module>\u001b[0;34m\u001b[0m\n\u001b[0;32m----> 1\u001b[0;31m \u001b[0mmessages_2\u001b[0m\u001b[0;34m\u001b[0m\u001b[0;34m\u001b[0m\u001b[0m\n\u001b[0m",
      "\u001b[0;31mNameError\u001b[0m: name 'messages_2' is not defined"
     ]
    }
   ],
   "source": [
    "messages_2"
   ]
  },
  {
   "cell_type": "code",
   "execution_count": null,
   "metadata": {},
   "outputs": [],
   "source": []
  }
 ],
 "metadata": {
  "kernelspec": {
   "display_name": "adaexam",
   "language": "python",
   "name": "python3"
  },
  "language_info": {
   "codemirror_mode": {
    "name": "ipython",
    "version": 3
   },
   "file_extension": ".py",
   "mimetype": "text/x-python",
   "name": "python",
   "nbconvert_exporter": "python",
   "pygments_lexer": "ipython3",
   "version": "3.8.12"
  },
  "orig_nbformat": 4
 },
 "nbformat": 4,
 "nbformat_minor": 2
}
