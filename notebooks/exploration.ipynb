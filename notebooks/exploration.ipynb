{
 "cells": [
  {
   "cell_type": "code",
   "execution_count": 2,
   "metadata": {},
   "outputs": [],
   "source": [
    "import pandas as pd"
   ]
  },
  {
   "cell_type": "code",
   "execution_count": 4,
   "metadata": {},
   "outputs": [],
   "source": [
    "accounts = pd.read_csv(\"../data/accounts.csv\")\n",
    "alliance_ff = pd.read_csv(\"../data/alliance_ff.csv\")\n",
    "alliance_membership = pd.read_csv(\"../data/alliance_membership.csv\")\n",
    "messages_1 = pd.read_csv(\"../data/cleaned_messages_1.csv\")\n",
    "messages_2 = pd.read_csv(\"../data/cleaned_messages_2.csv\")"
   ]
  },
  {
   "attachments": {},
   "cell_type": "markdown",
   "metadata": {},
   "source": [
    "## Mini analysis to understand possible vulnerable users (low interaction users + in a risky alliance)"
   ]
  },
  {
   "cell_type": "code",
   "execution_count": 5,
   "metadata": {},
   "outputs": [],
   "source": [
    "#get the mean number of messages per account\n",
    "mean_messages = messages_2.groupby('account_id')['timestamp'].count().mean()"
   ]
  },
  {
   "cell_type": "code",
   "execution_count": 6,
   "metadata": {},
   "outputs": [],
   "source": [
    "#find the users with the lowest interaction\n",
    "percentages = messages_2.groupby('account_id')['timestamp'] \\\n",
    "                             .count() \\\n",
    "                             .reset_index(name='count') \\\n",
    "                             .sort_values(['count'], ascending=True) \\\n",
    "                             .head(5)\n",
    "low_interaction_users = percentages[percentages[\"count\"] < mean_messages].account_id"
   ]
  },
  {
   "cell_type": "code",
   "execution_count": 7,
   "metadata": {},
   "outputs": [],
   "source": [
    "#find the alliances of the users with the lowest interaction\n",
    "allies_low_interaction_users = messages_2[messages_2[\"account_id\"].isin(low_interaction_users.unique())][\"alliance_id\"]"
   ]
  },
  {
   "cell_type": "code",
   "execution_count": 8,
   "metadata": {},
   "outputs": [],
   "source": [
    "#get the risky allies: we specified being risky with a general risk > 1.0\n",
    "risky_allies = messages_2[messages_2[\"GENERAL_RISK\"] > 1.0].alliance_id.unique()"
   ]
  },
  {
   "cell_type": "code",
   "execution_count": 9,
   "metadata": {},
   "outputs": [],
   "source": [
    "#find the matches between the risky allies and the allies of the users with the lowest interaction\n",
    "matches_found = [x for x in allies_low_interaction_users if x in risky_allies]\n",
    "#get the user from messages_2 that are in low_interaction_users that have the alliance id in matches_found\n",
    "affected_users = messages_2[messages_2[\"account_id\"].isin(low_interaction_users.unique()) & messages_2[\"alliance_id\"].isin(matches_found)][\"account_id\"]"
   ]
  },
  {
   "cell_type": "code",
   "execution_count": 10,
   "metadata": {},
   "outputs": [
    {
     "data": {
      "text/plain": [
       "95759     9a304ad2233dcccd06c4cfee5d615c686ae38b00636ba1...\n",
       "116241    00009fe7185adef70c1a19c70cba655dc0cf0e5304d50f...\n",
       "164979    9a2e1d60da91bbee0a2faf4cd3f58ad9059b66ceb163ec...\n",
       "Name: account_id, dtype: object"
      ]
     },
     "execution_count": 10,
     "metadata": {},
     "output_type": "execute_result"
    }
   ],
   "source": [
    "affected_users"
   ]
  },
  {
   "attachments": {},
   "cell_type": "markdown",
   "metadata": {},
   "source": [
    "## Is there a real difference in term of general risk between family friendly and non family friendly alliances? Lets see!"
   ]
  },
  {
   "cell_type": "code",
   "execution_count": 11,
   "metadata": {},
   "outputs": [],
   "source": [
    "family_friendly_alliances = alliance_ff[alliance_ff[\"family_friendly\"]==1].alliance_id.unique()\n",
    "non_family_friendly_alliances = alliance_ff[alliance_ff[\"family_friendly\"]==-1].alliance_id.unique()"
   ]
  },
  {
   "cell_type": "code",
   "execution_count": 12,
   "metadata": {},
   "outputs": [
    {
     "data": {
      "image/png": "[encoded data removed]",
      "text/plain": [
       "<Figure size 432x288 with 1 Axes>"
      ]
     },
     "metadata": {
      "needs_background": "light"
     },
     "output_type": "display_data"
    }
   ],
   "source": [
    "import matplotlib.pyplot as plt\n",
    "\n",
    "# Get risk for family_friendly_alliances and non_family_friendly_alliances\n",
    "family_friendly_risk = messages_2[messages_2[\"alliance_id\"].isin(family_friendly_alliances)].GENERAL_RISK\n",
    "non_family_friendly_risk = messages_2[messages_2[\"alliance_id\"].isin(non_family_friendly_alliances)].GENERAL_RISK\n",
    "\n",
    "plt.hist(family_friendly_risk, bins=100, density=True, alpha=0.5, label=\"Family Friendly\", linewidth=2)\n",
    "plt.hist(non_family_friendly_risk, bins=100, density=True, alpha=0.5, label=\"Non Family Friendly\", linewidth=2)\n",
    "plt.legend(loc=\"upper right\")\n",
    "plt.show()\n",
    "\n"
   ]
  },
  {
   "attachments": {},
   "cell_type": "markdown",
   "metadata": {},
   "source": [
    "As we can see, family friendly tend to dominate low risk allies (0,1 general risk), while non-family friendly alliances tend to be a bit more riskier"
   ]
  }
 ],
 "metadata": {
  "kernelspec": {
   "display_name": "adaexam",
   "language": "python",
   "name": "python3"
  },
  "language_info": {
   "codemirror_mode": {
    "name": "ipython",
    "version": 3
   },
   "file_extension": ".py",
   "mimetype": "text/x-python",
   "name": "python",
   "nbconvert_exporter": "python",
   "pygments_lexer": "ipython3",
   "version": "3.8.12"
  },
  "orig_nbformat": 4
 },
 "nbformat": 4,
 "nbformat_minor": 2
}
