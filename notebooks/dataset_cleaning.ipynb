{
 "cells": [
  {
   "attachments": {},
   "cell_type": "markdown",
   "metadata": {},
   "source": [
    "## This notebook is used to clean the message csv file in order to extract sentences that will be used in notebooks/test_text_performance.ipynb for testing our text model performances"
   ]
  },
  {
   "cell_type": "code",
   "execution_count": 5,
   "metadata": {},
   "outputs": [],
   "source": [
    "import pandas as pd\n",
    "import matplotlib.pyplot as plt\n",
    "import numpy as np"
   ]
  },
  {
   "cell_type": "code",
   "execution_count": 15,
   "metadata": {},
   "outputs": [],
   "source": [
    "cols = ['account_id', 'alliance_id', 'timestamp', 'date', 'raw_message',\n",
    "       'filtered_message', 'filtered', 'filtered_content', 'risk',\n",
    "       'filter_detected_language', 'is_family_friendly', 'GENERAL_RISK',\n",
    "       'BULLYING', 'VIOLENCE', 'RELATIONSHIP_SEXUAL_CONTENT', 'VULGARITY',\n",
    "       'DRUGS_ALCOHOL', 'IN_APP', 'ALARM', 'FRAUD', 'HATE_SPEECH', 'RELIGIOUS',\n",
    "       'WEBSITE', 'CHILD_GROOMING', 'PUBLIC_THREAT', 'EXTREMISM', 'SUBVERSIVE',\n",
    "       'SENTIMENT', 'POLITICS']\n",
    "negatives = ['risk', 'is_family_friendly', 'GENERAL_RISK',\n",
    "       'BULLYING', 'VIOLENCE', 'RELATIONSHIP_SEXUAL_CONTENT', 'VULGARITY',\n",
    "       'DRUGS_ALCOHOL', 'IN_APP', 'ALARM', 'FRAUD', 'HATE_SPEECH', 'RELIGIOUS',\n",
    "       'WEBSITE', 'CHILD_GROOMING', 'PUBLIC_THREAT', 'EXTREMISM', 'SUBVERSIVE',\n",
    "       'SENTIMENT', 'POLITICS']\n",
    "       \n",
    "def dropUnusefulCols(messages):\n",
    "    \"\"\"Drop the columns that are not useful for the analysis\"\"\"\n",
    "    ls = ['filter_detected_language']\n",
    "    return messages.drop(columns=ls)\n",
    "\n",
    "\n",
    "def isfloat(value):\n",
    "    try:\n",
    "        float(value)\n",
    "        return True\n",
    "    except ValueError:\n",
    "        return False\n",
    "\n",
    "\n",
    "def returnNonNumeric(col):\n",
    "    \"\"\"Return the non-numeric values of a column\"\"\"\n",
    "    ls = list(col.value_counts().index)\n",
    "    # numeric in floatFormat\n",
    "    isFloat = [isfloat(elem) for elem in ls]\n",
    "    # numeric in intFormat\n",
    "    isInt = [str(elem).isnumeric() for elem in ls]\n",
    "    notNumeric = []\n",
    "    for i in range(len(ls)):\n",
    "        if not(isFloat[i] or isInt[i]):\n",
    "            notNumeric.append(ls[i])\n",
    "    return notNumeric\n",
    "\n",
    "def retrieveBadIndices(messages):\n",
    "    \"\"\"Retrieve the indices of the lines that contain non-numerical values\"\"\"\n",
    "    badIndices = []\n",
    "    for col in negatives:\n",
    "        column = messages[col]\n",
    "        nonNumeric = returnNonNumeric(column)\n",
    "        # Retrieve indices of lines that are not numerical (problematic)\n",
    "        badIndex = list(column[column.isin(nonNumeric)].index)\n",
    "        badIndices += badIndex\n",
    "    return badIndices\n",
    "\n",
    "\n",
    "def cleanData(messages):\n",
    "    \"\"\"Clean the data by removing the lines that contain non-numerical values\"\"\"\n",
    "\n",
    "    bad =retrieveBadIndices(messages)\n",
    "\n",
    "    messages= messages[~messages.index.isin(bad)]\n",
    "    for col in negatives:\n",
    "        messages[col] = messages[col].astype('float64')\n",
    "    return messages\n",
    "\n",
    "def cleanMessage2(messages):\n",
    "    \"\"\"Clean message_2.csv by removing the lines that contain non-numerical values\"\"\"\n",
    "    messages = messages.dropna()\n",
    "    messages = cleanData(messages)\n",
    "    stringColumns = ['account_id','alliance_id','raw_message','filtered_message']\n",
    "    for col in stringColumns:\n",
    "        messages[col] = messages[col].astype(\"string\")\n",
    "    messages = messages.drop(columns= ['filter_detected_language'])\n",
    "    messages['filtered'] = messages['filtered'] == '0'\n",
    "    return messages"
   ]
  },
  {
   "cell_type": "code",
   "execution_count": 16,
   "metadata": {},
   "outputs": [
    {
     "name": "stderr",
     "output_type": "stream",
     "text": [
      "/var/folders/7g/2ds3y3yd6319x1125r61pg1c0000gn/T/ipykernel_6533/2980095812.py:60: SettingWithCopyWarning: \n",
      "A value is trying to be set on a copy of a slice from a DataFrame.\n",
      "Try using .loc[row_indexer,col_indexer] = value instead\n",
      "\n",
      "See the caveats in the documentation: https://pandas.pydata.org/pandas-docs/stable/user_guide/indexing.html#returning-a-view-versus-a-copy\n",
      "  messages[col] = messages[col].astype('float64')\n"
     ]
    }
   ],
   "source": [
    "messages_2 = pd.read_csv(\"../data/chat_messages_2.csv\")\n",
    "messages_1 = pd.read_csv(\"../data/chat_messages_1.csv\")\n",
    "\n",
    "# Drop the columns that are not useful for the analysis, and the lines that contain non-numerical values\n",
    "messages_2 = cleanMessage2(messages_2)\n",
    "messages_1 = cleanMessage2(messages_1)\n",
    "\n",
    "messages_2.to_csv(\"../data/cleaned_messages_2.csv\", index=False)\n",
    "messages_1.to_csv(\"../data/cleaned_messages_1.csv\", index=False)"
   ]
  }
 ],
 "metadata": {
  "kernelspec": {
   "display_name": "adaexam",
   "language": "python",
   "name": "python3"
  },
  "language_info": {
   "codemirror_mode": {
    "name": "ipython",
    "version": 3
   },
   "file_extension": ".py",
   "mimetype": "text/x-python",
   "name": "python",
   "nbconvert_exporter": "python",
   "pygments_lexer": "ipython3",
   "version": "3.8.12"
  },
  "orig_nbformat": 4
 },
 "nbformat": 4,
 "nbformat_minor": 2
}
